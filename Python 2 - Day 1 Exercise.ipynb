{
 "cells": [
  {
   "cell_type": "markdown",
   "metadata": {},
   "source": [
    "# OOP - Class & Composition"
   ]
  },
  {
   "cell_type": "markdown",
   "metadata": {},
   "source": [
    "Exercise 1: Create a Player class with a name, a position, and a speed attributes. Set the initial value of speed to 1 and create any necessary methods.\n",
    "Then, \n",
    "1. Create two Player objects and print information about both players.\n",
    "2. Assign 8 to player 1's speed\n",
    "3. print information about both players."
   ]
  },
  {
   "cell_type": "code",
   "execution_count": 5,
   "metadata": {},
   "outputs": [
    {
     "name": "stdout",
     "output_type": "stream",
     "text": [
      "Ronaldo who is playing at striker position runs 1 miles per hour\n",
      "Messi who is playing at striker position runs 1 miles per hour\n",
      "******************************\n",
      "Ronaldo who is playing at striker position runs 8 miles per hour\n",
      "Messi who is playing at striker position runs 1 miles per hour\n"
     ]
    }
   ],
   "source": [
    "class Player:\n",
    "    def __init__(self, name, position):\n",
    "        self.name = name\n",
    "        self.position = position\n",
    "        self.speed = 1\n",
    "    def get_info(self):\n",
    "        print(f\"{self.name} who is playing at {self.position} position runs {self.speed} miles per hour\")\n",
    "    def accelerate(self, speed):\n",
    "        self.speed = speed\n",
    "player1 = Player(\"Ronaldo\", \"striker\")\n",
    "player2 = Player(\"Messi\", \"striker\")\n",
    "\n",
    "player1.get_info()\n",
    "player2.get_info()\n",
    "player1.accelerate(8)\n",
    "print(\"*\"*30)\n",
    "player1.get_info()\n",
    "player2.get_info()\n",
    "    "
   ]
  },
  {
   "cell_type": "markdown",
   "metadata": {},
   "source": [
    "Exercise 2: Create a class called Rectangle with height and length attributes and has following methods: \n",
    "- perimeter() : returns a perimeter of a rectangle object\n",
    "- area() : returns an area of a rectangle object\n",
    "\n",
    "Then,\n",
    "1. create two instances of Rectangle class\n",
    "2. print each rectangle's perimeter and determine which rectangle has larger perimeter\n",
    "3. print each rectangle's area and determine which rectangle has larger area"
   ]
  },
  {
   "cell_type": "code",
   "execution_count": 6,
   "metadata": {},
   "outputs": [
    {
     "name": "stdout",
     "output_type": "stream",
     "text": [
      "The area of rectangle1 is 150 the area of rectangle2 is 72 \n",
      "rectangle1 has larger area\n",
      "====================\n",
      "The perimeter of rectangle1 is 50  the perimeter of rectangle2 is 36 \n",
      "rectangle1 has larger perimeter\n"
     ]
    }
   ],
   "source": [
    "class Rectangle:\n",
    "    def __init__(self, height, length):\n",
    "        self.height = height\n",
    "        self.length = length\n",
    "    def area(self):\n",
    "        return self.height*self.length\n",
    "    def perimeter(self):\n",
    "        return (self.height + self.length)*2\n",
    "rectangle1 = Rectangle(10, 15)\n",
    "rectangle2 = Rectangle(6, 12)\n",
    "print(f\"The area of rectangle1 is {rectangle1.area()} the area of rectangle2 is {rectangle2.area()} \")\n",
    "\n",
    "if rectangle1.area() > rectangle2.area():\n",
    "    print(\"rectangle1 has larger area\")\n",
    "else:\n",
    "    print(\"rectangle2 has larger area\")\n",
    "\n",
    "print(\"=\"*20)\n",
    "print(f\"The perimeter of rectangle1 is {rectangle1.perimeter()}  the perimeter of rectangle2 is {rectangle2.perimeter()} \")\n",
    "\n",
    "if rectangle1.perimeter() > rectangle2.perimeter():\n",
    "    print(\"rectangle1 has larger perimeter\")\n",
    "else:\n",
    "    print(\"rectangle2 has larger perimeter\")"
   ]
  },
  {
   "cell_type": "markdown",
   "metadata": {},
   "source": [
    "Exercise 3: Create a class called Triangle with height and base attributes and has following methods:\n",
    "\n",
    "- perimeter() : returns a perimeter of a right triangle object\n",
    "- area() : returns an area of a right triangle object\n",
    "\n",
    "Then,\n",
    "\n",
    "- create two instances of Triangle class\n",
    "- print each triangle's perimeter and determine which triangle has larger perimeter\n",
    "- print each triangle's area and determine which triangle has larger area\n",
    "\n",
    "Use \n",
    "- perimeter of a right triangle = height + base + Square-Root((height \\** 2) + (base \\** 2)) \n",
    "- area of a right triangle = ( height * base ) / 2\n",
    "\n",
    "You'll need to <b>import math</b> library and use <b>math.sqrt()</b> function.\n",
    "\n"
   ]
  },
  {
   "cell_type": "code",
   "execution_count": 8,
   "metadata": {},
   "outputs": [
    {
     "name": "stdout",
     "output_type": "stream",
     "text": [
      "The area of triangle1 is 24.0 the area of triangle2 is 75.0 \n",
      "triangle2 has larger area\n",
      "====================\n",
      "The perimeter of triangle1 is 24.00  the perimeter of triangle2 is 43.03 \n",
      "triangle2 has larger perimeter\n"
     ]
    }
   ],
   "source": [
    "import math\n",
    "class Triangle:\n",
    "    def __init__(self, height, base):\n",
    "        self.height = height\n",
    "        self.base = base\n",
    "    def perimeter(self):\n",
    "        return self.height + self.base + math.sqrt((self.height ** 2) + (self.base ** 2))\n",
    "    def area(self):\n",
    "        return (self.height * self.base)/2\n",
    "triangle1 = Triangle(6, 8)\n",
    "triangle2 = Triangle(10, 15)\n",
    "print(f\"The area of triangle1 is {triangle1.area()} the area of triangle2 is {triangle2.area()} \")\n",
    "\n",
    "if triangle1.area() > triangle2.area():\n",
    "    print(\"triangle1 has larger area\")\n",
    "else:\n",
    "    print(\"triangle2 has larger area\")\n",
    "\n",
    "print(\"=\"*20)\n",
    "print(f\"The perimeter of triangle1 is {triangle1.perimeter():.2f}  the perimeter of triangle2 is {triangle2.perimeter():.2f} \")\n",
    "\n",
    "if triangle1.perimeter() > triangle2.perimeter():\n",
    "    print(\"triangle1 has larger perimeter\")\n",
    "else:\n",
    "    print(\"triangle2 has larger perimeter\")"
   ]
  },
  {
   "cell_type": "markdown",
   "metadata": {},
   "source": [
    "Exercise 4: Wrote a program that maintains a list of movies, and the user can list all the movies, add a movie to the list, or delete a movie from the list. All input/output are done at the program level, not at a class level.\n",
    "\n",
    "\n",
    "For Python 1 Day 3 Challenge Exercise, you wrote a program that maintains a list of movies, and the user can list all the movies, add a movie to the list, or delete a movie from the list. Modify that program to use a Movie object stores name, year, and genre of a movie. Create any method you need to access these attributes but your method can not use <b>print</b> function. Additionally, create a Movies class that stores a list of movies. Again, create any method you need to access these attributes but your method can not use <b>print</b> function. \n"
   ]
  },
  {
   "cell_type": "code",
   "execution_count": null,
   "metadata": {},
   "outputs": [],
   "source": [
    "\n"
   ]
  },
  {
   "cell_type": "markdown",
   "metadata": {},
   "source": [
    "Exercise 5: Create a class called Employee with \n",
    "- firstname,\n",
    "- lastname, \n",
    "- joined_date\n",
    "- active \n",
    "attributes and methods to retrieve each attribute.\n",
    "\n",
    "Also, create a class called Department with a dept_name and a list of Employee objects as its attribute.  \n",
    "\n",
    "Then, write a program to \n",
    "- add 10 or more employees\n",
    "- print all employees's information\n",
    "- print all active employees' fullname in an alphabetical order\n",
    "\n",
    "Create any methods you need but all print statements should be called from your program, not in your class method!"
   ]
  },
  {
   "cell_type": "code",
   "execution_count": null,
   "metadata": {},
   "outputs": [],
   "source": []
  },
  {
   "cell_type": "code",
   "execution_count": null,
   "metadata": {},
   "outputs": [],
   "source": []
  }
 ],
 "metadata": {
  "kernelspec": {
   "display_name": "Python 3",
   "language": "python",
   "name": "python3"
  },
  "language_info": {
   "codemirror_mode": {
    "name": "ipython",
    "version": 3
   },
   "file_extension": ".py",
   "mimetype": "text/x-python",
   "name": "python",
   "nbconvert_exporter": "python",
   "pygments_lexer": "ipython3",
   "version": "3.8.3"
  }
 },
 "nbformat": 4,
 "nbformat_minor": 4
}
